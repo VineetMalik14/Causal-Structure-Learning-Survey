{
  "nbformat": 4,
  "nbformat_minor": 0,
  "metadata": {
    "colab": {
      "provenance": []
    },
    "kernelspec": {
      "name": "python3",
      "display_name": "Python 3"
    },
    "language_info": {
      "name": "python"
    },
    "widgets": {
      "application/vnd.jupyter.widget-state+json": {
        "58cd696ea16d42f4b79031e11a43dad4": {
          "model_module": "@jupyter-widgets/controls",
          "model_name": "HBoxModel",
          "model_module_version": "1.5.0",
          "state": {
            "_dom_classes": [],
            "_model_module": "@jupyter-widgets/controls",
            "_model_module_version": "1.5.0",
            "_model_name": "HBoxModel",
            "_view_count": null,
            "_view_module": "@jupyter-widgets/controls",
            "_view_module_version": "1.5.0",
            "_view_name": "HBoxView",
            "box_style": "",
            "children": [
              "IPY_MODEL_bb5de49be11c4058b1b9a6f25f6dfb4c",
              "IPY_MODEL_48b6474aa0a048cfaa6e1d255424ab98",
              "IPY_MODEL_175d97944b504cc2ba59cb610debb076"
            ],
            "layout": "IPY_MODEL_a65d78e4cd9c49228269196d8638b5b7"
          }
        },
        "bb5de49be11c4058b1b9a6f25f6dfb4c": {
          "model_module": "@jupyter-widgets/controls",
          "model_name": "HTMLModel",
          "model_module_version": "1.5.0",
          "state": {
            "_dom_classes": [],
            "_model_module": "@jupyter-widgets/controls",
            "_model_module_version": "1.5.0",
            "_model_name": "HTMLModel",
            "_view_count": null,
            "_view_module": "@jupyter-widgets/controls",
            "_view_module_version": "1.5.0",
            "_view_name": "HTMLView",
            "description": "",
            "description_tooltip": null,
            "layout": "IPY_MODEL_05f1e594c30d48fc94dcc9bf8d7cceb9",
            "placeholder": "​",
            "style": "IPY_MODEL_e703ec16b1e34772b2bdc76637fe9dec",
            "value": "  0%"
          }
        },
        "48b6474aa0a048cfaa6e1d255424ab98": {
          "model_module": "@jupyter-widgets/controls",
          "model_name": "FloatProgressModel",
          "model_module_version": "1.5.0",
          "state": {
            "_dom_classes": [],
            "_model_module": "@jupyter-widgets/controls",
            "_model_module_version": "1.5.0",
            "_model_name": "FloatProgressModel",
            "_view_count": null,
            "_view_module": "@jupyter-widgets/controls",
            "_view_module_version": "1.5.0",
            "_view_name": "ProgressView",
            "bar_style": "danger",
            "description": "",
            "description_tooltip": null,
            "layout": "IPY_MODEL_3e3d61117a7b4d41918d3240fd9b313b",
            "max": 1000000,
            "min": 0,
            "orientation": "horizontal",
            "style": "IPY_MODEL_2960a3f0acd34a3a943345daccac53c8",
            "value": 2
          }
        },
        "175d97944b504cc2ba59cb610debb076": {
          "model_module": "@jupyter-widgets/controls",
          "model_name": "HTMLModel",
          "model_module_version": "1.5.0",
          "state": {
            "_dom_classes": [],
            "_model_module": "@jupyter-widgets/controls",
            "_model_module_version": "1.5.0",
            "_model_name": "HTMLModel",
            "_view_count": null,
            "_view_module": "@jupyter-widgets/controls",
            "_view_module_version": "1.5.0",
            "_view_name": "HTMLView",
            "description": "",
            "description_tooltip": null,
            "layout": "IPY_MODEL_5452ea30a2cf465a8c9ab6302da814ae",
            "placeholder": "​",
            "style": "IPY_MODEL_e45194cee6ed4c538b5aa02435d7f82f",
            "value": " 2/1000000 [00:00&lt;11:02:20, 25.16it/s]"
          }
        },
        "a65d78e4cd9c49228269196d8638b5b7": {
          "model_module": "@jupyter-widgets/base",
          "model_name": "LayoutModel",
          "model_module_version": "1.2.0",
          "state": {
            "_model_module": "@jupyter-widgets/base",
            "_model_module_version": "1.2.0",
            "_model_name": "LayoutModel",
            "_view_count": null,
            "_view_module": "@jupyter-widgets/base",
            "_view_module_version": "1.2.0",
            "_view_name": "LayoutView",
            "align_content": null,
            "align_items": null,
            "align_self": null,
            "border": null,
            "bottom": null,
            "display": null,
            "flex": null,
            "flex_flow": null,
            "grid_area": null,
            "grid_auto_columns": null,
            "grid_auto_flow": null,
            "grid_auto_rows": null,
            "grid_column": null,
            "grid_gap": null,
            "grid_row": null,
            "grid_template_areas": null,
            "grid_template_columns": null,
            "grid_template_rows": null,
            "height": null,
            "justify_content": null,
            "justify_items": null,
            "left": null,
            "margin": null,
            "max_height": null,
            "max_width": null,
            "min_height": null,
            "min_width": null,
            "object_fit": null,
            "object_position": null,
            "order": null,
            "overflow": null,
            "overflow_x": null,
            "overflow_y": null,
            "padding": null,
            "right": null,
            "top": null,
            "visibility": null,
            "width": null
          }
        },
        "05f1e594c30d48fc94dcc9bf8d7cceb9": {
          "model_module": "@jupyter-widgets/base",
          "model_name": "LayoutModel",
          "model_module_version": "1.2.0",
          "state": {
            "_model_module": "@jupyter-widgets/base",
            "_model_module_version": "1.2.0",
            "_model_name": "LayoutModel",
            "_view_count": null,
            "_view_module": "@jupyter-widgets/base",
            "_view_module_version": "1.2.0",
            "_view_name": "LayoutView",
            "align_content": null,
            "align_items": null,
            "align_self": null,
            "border": null,
            "bottom": null,
            "display": null,
            "flex": null,
            "flex_flow": null,
            "grid_area": null,
            "grid_auto_columns": null,
            "grid_auto_flow": null,
            "grid_auto_rows": null,
            "grid_column": null,
            "grid_gap": null,
            "grid_row": null,
            "grid_template_areas": null,
            "grid_template_columns": null,
            "grid_template_rows": null,
            "height": null,
            "justify_content": null,
            "justify_items": null,
            "left": null,
            "margin": null,
            "max_height": null,
            "max_width": null,
            "min_height": null,
            "min_width": null,
            "object_fit": null,
            "object_position": null,
            "order": null,
            "overflow": null,
            "overflow_x": null,
            "overflow_y": null,
            "padding": null,
            "right": null,
            "top": null,
            "visibility": null,
            "width": null
          }
        },
        "e703ec16b1e34772b2bdc76637fe9dec": {
          "model_module": "@jupyter-widgets/controls",
          "model_name": "DescriptionStyleModel",
          "model_module_version": "1.5.0",
          "state": {
            "_model_module": "@jupyter-widgets/controls",
            "_model_module_version": "1.5.0",
            "_model_name": "DescriptionStyleModel",
            "_view_count": null,
            "_view_module": "@jupyter-widgets/base",
            "_view_module_version": "1.2.0",
            "_view_name": "StyleView",
            "description_width": ""
          }
        },
        "3e3d61117a7b4d41918d3240fd9b313b": {
          "model_module": "@jupyter-widgets/base",
          "model_name": "LayoutModel",
          "model_module_version": "1.2.0",
          "state": {
            "_model_module": "@jupyter-widgets/base",
            "_model_module_version": "1.2.0",
            "_model_name": "LayoutModel",
            "_view_count": null,
            "_view_module": "@jupyter-widgets/base",
            "_view_module_version": "1.2.0",
            "_view_name": "LayoutView",
            "align_content": null,
            "align_items": null,
            "align_self": null,
            "border": null,
            "bottom": null,
            "display": null,
            "flex": null,
            "flex_flow": null,
            "grid_area": null,
            "grid_auto_columns": null,
            "grid_auto_flow": null,
            "grid_auto_rows": null,
            "grid_column": null,
            "grid_gap": null,
            "grid_row": null,
            "grid_template_areas": null,
            "grid_template_columns": null,
            "grid_template_rows": null,
            "height": null,
            "justify_content": null,
            "justify_items": null,
            "left": null,
            "margin": null,
            "max_height": null,
            "max_width": null,
            "min_height": null,
            "min_width": null,
            "object_fit": null,
            "object_position": null,
            "order": null,
            "overflow": null,
            "overflow_x": null,
            "overflow_y": null,
            "padding": null,
            "right": null,
            "top": null,
            "visibility": null,
            "width": null
          }
        },
        "2960a3f0acd34a3a943345daccac53c8": {
          "model_module": "@jupyter-widgets/controls",
          "model_name": "ProgressStyleModel",
          "model_module_version": "1.5.0",
          "state": {
            "_model_module": "@jupyter-widgets/controls",
            "_model_module_version": "1.5.0",
            "_model_name": "ProgressStyleModel",
            "_view_count": null,
            "_view_module": "@jupyter-widgets/base",
            "_view_module_version": "1.2.0",
            "_view_name": "StyleView",
            "bar_color": null,
            "description_width": ""
          }
        },
        "5452ea30a2cf465a8c9ab6302da814ae": {
          "model_module": "@jupyter-widgets/base",
          "model_name": "LayoutModel",
          "model_module_version": "1.2.0",
          "state": {
            "_model_module": "@jupyter-widgets/base",
            "_model_module_version": "1.2.0",
            "_model_name": "LayoutModel",
            "_view_count": null,
            "_view_module": "@jupyter-widgets/base",
            "_view_module_version": "1.2.0",
            "_view_name": "LayoutView",
            "align_content": null,
            "align_items": null,
            "align_self": null,
            "border": null,
            "bottom": null,
            "display": null,
            "flex": null,
            "flex_flow": null,
            "grid_area": null,
            "grid_auto_columns": null,
            "grid_auto_flow": null,
            "grid_auto_rows": null,
            "grid_column": null,
            "grid_gap": null,
            "grid_row": null,
            "grid_template_areas": null,
            "grid_template_columns": null,
            "grid_template_rows": null,
            "height": null,
            "justify_content": null,
            "justify_items": null,
            "left": null,
            "margin": null,
            "max_height": null,
            "max_width": null,
            "min_height": null,
            "min_width": null,
            "object_fit": null,
            "object_position": null,
            "order": null,
            "overflow": null,
            "overflow_x": null,
            "overflow_y": null,
            "padding": null,
            "right": null,
            "top": null,
            "visibility": null,
            "width": null
          }
        },
        "e45194cee6ed4c538b5aa02435d7f82f": {
          "model_module": "@jupyter-widgets/controls",
          "model_name": "DescriptionStyleModel",
          "model_module_version": "1.5.0",
          "state": {
            "_model_module": "@jupyter-widgets/controls",
            "_model_module_version": "1.5.0",
            "_model_name": "DescriptionStyleModel",
            "_view_count": null,
            "_view_module": "@jupyter-widgets/base",
            "_view_module_version": "1.2.0",
            "_view_name": "StyleView",
            "description_width": ""
          }
        },
        "080a6090e2974c9fb2bcc57e58899b1f": {
          "model_module": "@jupyter-widgets/controls",
          "model_name": "HBoxModel",
          "model_module_version": "1.5.0",
          "state": {
            "_dom_classes": [],
            "_model_module": "@jupyter-widgets/controls",
            "_model_module_version": "1.5.0",
            "_model_name": "HBoxModel",
            "_view_count": null,
            "_view_module": "@jupyter-widgets/controls",
            "_view_module_version": "1.5.0",
            "_view_name": "HBoxView",
            "box_style": "",
            "children": [
              "IPY_MODEL_97548b01a4cd4f18b7a5dd393ce5c597",
              "IPY_MODEL_35938d1f2ac34867a09f4f0563877131",
              "IPY_MODEL_dd2757a13e034f25ba424d5eb16f4677"
            ],
            "layout": "IPY_MODEL_5fde4695589142b498e874936f8380c2"
          }
        },
        "97548b01a4cd4f18b7a5dd393ce5c597": {
          "model_module": "@jupyter-widgets/controls",
          "model_name": "HTMLModel",
          "model_module_version": "1.5.0",
          "state": {
            "_dom_classes": [],
            "_model_module": "@jupyter-widgets/controls",
            "_model_module_version": "1.5.0",
            "_model_name": "HTMLModel",
            "_view_count": null,
            "_view_module": "@jupyter-widgets/controls",
            "_view_module_version": "1.5.0",
            "_view_name": "HTMLView",
            "description": "",
            "description_tooltip": null,
            "layout": "IPY_MODEL_900056a124a8408581986314eb6fecd4",
            "placeholder": "​",
            "style": "IPY_MODEL_20f3cd3c1baf43d88a201254c1531fc4",
            "value": "Working for n conditional variables: 2:  40%"
          }
        },
        "35938d1f2ac34867a09f4f0563877131": {
          "model_module": "@jupyter-widgets/controls",
          "model_name": "FloatProgressModel",
          "model_module_version": "1.5.0",
          "state": {
            "_dom_classes": [],
            "_model_module": "@jupyter-widgets/controls",
            "_model_module_version": "1.5.0",
            "_model_name": "FloatProgressModel",
            "_view_count": null,
            "_view_module": "@jupyter-widgets/controls",
            "_view_module_version": "1.5.0",
            "_view_name": "ProgressView",
            "bar_style": "danger",
            "description": "",
            "description_tooltip": null,
            "layout": "IPY_MODEL_5839bcbdbc46468fa669dd0aca9d5406",
            "max": 5,
            "min": 0,
            "orientation": "horizontal",
            "style": "IPY_MODEL_6ddf4304489747e1a6a7dd60b28eeeae",
            "value": 2
          }
        },
        "dd2757a13e034f25ba424d5eb16f4677": {
          "model_module": "@jupyter-widgets/controls",
          "model_name": "HTMLModel",
          "model_module_version": "1.5.0",
          "state": {
            "_dom_classes": [],
            "_model_module": "@jupyter-widgets/controls",
            "_model_module_version": "1.5.0",
            "_model_name": "HTMLModel",
            "_view_count": null,
            "_view_module": "@jupyter-widgets/controls",
            "_view_module_version": "1.5.0",
            "_view_name": "HTMLView",
            "description": "",
            "description_tooltip": null,
            "layout": "IPY_MODEL_cec9eb87cf124dd783f60f1d3628b7c7",
            "placeholder": "​",
            "style": "IPY_MODEL_fad4d72bae7c4e5dbd753145a9a5646e",
            "value": " 2/5 [00:00&lt;00:01,  2.15it/s]"
          }
        },
        "5fde4695589142b498e874936f8380c2": {
          "model_module": "@jupyter-widgets/base",
          "model_name": "LayoutModel",
          "model_module_version": "1.2.0",
          "state": {
            "_model_module": "@jupyter-widgets/base",
            "_model_module_version": "1.2.0",
            "_model_name": "LayoutModel",
            "_view_count": null,
            "_view_module": "@jupyter-widgets/base",
            "_view_module_version": "1.2.0",
            "_view_name": "LayoutView",
            "align_content": null,
            "align_items": null,
            "align_self": null,
            "border": null,
            "bottom": null,
            "display": null,
            "flex": null,
            "flex_flow": null,
            "grid_area": null,
            "grid_auto_columns": null,
            "grid_auto_flow": null,
            "grid_auto_rows": null,
            "grid_column": null,
            "grid_gap": null,
            "grid_row": null,
            "grid_template_areas": null,
            "grid_template_columns": null,
            "grid_template_rows": null,
            "height": null,
            "justify_content": null,
            "justify_items": null,
            "left": null,
            "margin": null,
            "max_height": null,
            "max_width": null,
            "min_height": null,
            "min_width": null,
            "object_fit": null,
            "object_position": null,
            "order": null,
            "overflow": null,
            "overflow_x": null,
            "overflow_y": null,
            "padding": null,
            "right": null,
            "top": null,
            "visibility": null,
            "width": null
          }
        },
        "900056a124a8408581986314eb6fecd4": {
          "model_module": "@jupyter-widgets/base",
          "model_name": "LayoutModel",
          "model_module_version": "1.2.0",
          "state": {
            "_model_module": "@jupyter-widgets/base",
            "_model_module_version": "1.2.0",
            "_model_name": "LayoutModel",
            "_view_count": null,
            "_view_module": "@jupyter-widgets/base",
            "_view_module_version": "1.2.0",
            "_view_name": "LayoutView",
            "align_content": null,
            "align_items": null,
            "align_self": null,
            "border": null,
            "bottom": null,
            "display": null,
            "flex": null,
            "flex_flow": null,
            "grid_area": null,
            "grid_auto_columns": null,
            "grid_auto_flow": null,
            "grid_auto_rows": null,
            "grid_column": null,
            "grid_gap": null,
            "grid_row": null,
            "grid_template_areas": null,
            "grid_template_columns": null,
            "grid_template_rows": null,
            "height": null,
            "justify_content": null,
            "justify_items": null,
            "left": null,
            "margin": null,
            "max_height": null,
            "max_width": null,
            "min_height": null,
            "min_width": null,
            "object_fit": null,
            "object_position": null,
            "order": null,
            "overflow": null,
            "overflow_x": null,
            "overflow_y": null,
            "padding": null,
            "right": null,
            "top": null,
            "visibility": null,
            "width": null
          }
        },
        "20f3cd3c1baf43d88a201254c1531fc4": {
          "model_module": "@jupyter-widgets/controls",
          "model_name": "DescriptionStyleModel",
          "model_module_version": "1.5.0",
          "state": {
            "_model_module": "@jupyter-widgets/controls",
            "_model_module_version": "1.5.0",
            "_model_name": "DescriptionStyleModel",
            "_view_count": null,
            "_view_module": "@jupyter-widgets/base",
            "_view_module_version": "1.2.0",
            "_view_name": "StyleView",
            "description_width": ""
          }
        },
        "5839bcbdbc46468fa669dd0aca9d5406": {
          "model_module": "@jupyter-widgets/base",
          "model_name": "LayoutModel",
          "model_module_version": "1.2.0",
          "state": {
            "_model_module": "@jupyter-widgets/base",
            "_model_module_version": "1.2.0",
            "_model_name": "LayoutModel",
            "_view_count": null,
            "_view_module": "@jupyter-widgets/base",
            "_view_module_version": "1.2.0",
            "_view_name": "LayoutView",
            "align_content": null,
            "align_items": null,
            "align_self": null,
            "border": null,
            "bottom": null,
            "display": null,
            "flex": null,
            "flex_flow": null,
            "grid_area": null,
            "grid_auto_columns": null,
            "grid_auto_flow": null,
            "grid_auto_rows": null,
            "grid_column": null,
            "grid_gap": null,
            "grid_row": null,
            "grid_template_areas": null,
            "grid_template_columns": null,
            "grid_template_rows": null,
            "height": null,
            "justify_content": null,
            "justify_items": null,
            "left": null,
            "margin": null,
            "max_height": null,
            "max_width": null,
            "min_height": null,
            "min_width": null,
            "object_fit": null,
            "object_position": null,
            "order": null,
            "overflow": null,
            "overflow_x": null,
            "overflow_y": null,
            "padding": null,
            "right": null,
            "top": null,
            "visibility": null,
            "width": null
          }
        },
        "6ddf4304489747e1a6a7dd60b28eeeae": {
          "model_module": "@jupyter-widgets/controls",
          "model_name": "ProgressStyleModel",
          "model_module_version": "1.5.0",
          "state": {
            "_model_module": "@jupyter-widgets/controls",
            "_model_module_version": "1.5.0",
            "_model_name": "ProgressStyleModel",
            "_view_count": null,
            "_view_module": "@jupyter-widgets/base",
            "_view_module_version": "1.2.0",
            "_view_name": "StyleView",
            "bar_color": null,
            "description_width": ""
          }
        },
        "cec9eb87cf124dd783f60f1d3628b7c7": {
          "model_module": "@jupyter-widgets/base",
          "model_name": "LayoutModel",
          "model_module_version": "1.2.0",
          "state": {
            "_model_module": "@jupyter-widgets/base",
            "_model_module_version": "1.2.0",
            "_model_name": "LayoutModel",
            "_view_count": null,
            "_view_module": "@jupyter-widgets/base",
            "_view_module_version": "1.2.0",
            "_view_name": "LayoutView",
            "align_content": null,
            "align_items": null,
            "align_self": null,
            "border": null,
            "bottom": null,
            "display": null,
            "flex": null,
            "flex_flow": null,
            "grid_area": null,
            "grid_auto_columns": null,
            "grid_auto_flow": null,
            "grid_auto_rows": null,
            "grid_column": null,
            "grid_gap": null,
            "grid_row": null,
            "grid_template_areas": null,
            "grid_template_columns": null,
            "grid_template_rows": null,
            "height": null,
            "justify_content": null,
            "justify_items": null,
            "left": null,
            "margin": null,
            "max_height": null,
            "max_width": null,
            "min_height": null,
            "min_width": null,
            "object_fit": null,
            "object_position": null,
            "order": null,
            "overflow": null,
            "overflow_x": null,
            "overflow_y": null,
            "padding": null,
            "right": null,
            "top": null,
            "visibility": null,
            "width": null
          }
        },
        "fad4d72bae7c4e5dbd753145a9a5646e": {
          "model_module": "@jupyter-widgets/controls",
          "model_name": "DescriptionStyleModel",
          "model_module_version": "1.5.0",
          "state": {
            "_model_module": "@jupyter-widgets/controls",
            "_model_module_version": "1.5.0",
            "_model_name": "DescriptionStyleModel",
            "_view_count": null,
            "_view_module": "@jupyter-widgets/base",
            "_view_module_version": "1.2.0",
            "_view_name": "StyleView",
            "description_width": ""
          }
        }
      }
    }
  },
  "cells": [
    {
      "cell_type": "code",
      "execution_count": 1,
      "metadata": {
        "colab": {
          "base_uri": "https://localhost:8080/"
        },
        "id": "KJUfvwyJrhLA",
        "outputId": "30955323-1643-45d6-e39f-9c8d57483deb"
      },
      "outputs": [
        {
          "output_type": "stream",
          "name": "stdout",
          "text": [
            "Looking in indexes: https://pypi.org/simple, https://us-python.pkg.dev/colab-wheels/public/simple/\n",
            "Collecting pgmpy\n",
            "  Downloading pgmpy-0.1.21-py3-none-any.whl (1.9 MB)\n",
            "\u001b[2K     \u001b[90m━━━━━━━━━━━━━━━━━━━━━━━━━━━━━━━━━━━━━━━━\u001b[0m \u001b[32m1.9/1.9 MB\u001b[0m \u001b[31m10.9 MB/s\u001b[0m eta \u001b[36m0:00:00\u001b[0m\n",
            "\u001b[?25hRequirement already satisfied: pyparsing in /usr/local/lib/python3.9/dist-packages (from pgmpy) (3.0.9)\n",
            "Requirement already satisfied: scipy in /usr/local/lib/python3.9/dist-packages (from pgmpy) (1.10.1)\n",
            "Requirement already satisfied: opt-einsum in /usr/local/lib/python3.9/dist-packages (from pgmpy) (3.3.0)\n",
            "Requirement already satisfied: networkx in /usr/local/lib/python3.9/dist-packages (from pgmpy) (3.0)\n",
            "Requirement already satisfied: numpy in /usr/local/lib/python3.9/dist-packages (from pgmpy) (1.22.4)\n",
            "Requirement already satisfied: joblib in /usr/local/lib/python3.9/dist-packages (from pgmpy) (1.1.1)\n",
            "Requirement already satisfied: tqdm in /usr/local/lib/python3.9/dist-packages (from pgmpy) (4.65.0)\n",
            "Requirement already satisfied: torch in /usr/local/lib/python3.9/dist-packages (from pgmpy) (1.13.1+cu116)\n",
            "Requirement already satisfied: scikit-learn in /usr/local/lib/python3.9/dist-packages (from pgmpy) (1.2.2)\n",
            "Requirement already satisfied: pandas in /usr/local/lib/python3.9/dist-packages (from pgmpy) (1.4.4)\n",
            "Requirement already satisfied: statsmodels in /usr/local/lib/python3.9/dist-packages (from pgmpy) (0.13.5)\n",
            "Requirement already satisfied: pytz>=2020.1 in /usr/local/lib/python3.9/dist-packages (from pandas->pgmpy) (2022.7.1)\n",
            "Requirement already satisfied: python-dateutil>=2.8.1 in /usr/local/lib/python3.9/dist-packages (from pandas->pgmpy) (2.8.2)\n",
            "Requirement already satisfied: threadpoolctl>=2.0.0 in /usr/local/lib/python3.9/dist-packages (from scikit-learn->pgmpy) (3.1.0)\n",
            "Requirement already satisfied: patsy>=0.5.2 in /usr/local/lib/python3.9/dist-packages (from statsmodels->pgmpy) (0.5.3)\n",
            "Requirement already satisfied: packaging>=21.3 in /usr/local/lib/python3.9/dist-packages (from statsmodels->pgmpy) (23.0)\n",
            "Requirement already satisfied: typing-extensions in /usr/local/lib/python3.9/dist-packages (from torch->pgmpy) (4.5.0)\n",
            "Requirement already satisfied: six in /usr/local/lib/python3.9/dist-packages (from patsy>=0.5.2->statsmodels->pgmpy) (1.16.0)\n",
            "Installing collected packages: pgmpy\n",
            "Successfully installed pgmpy-0.1.21\n"
          ]
        }
      ],
      "source": [
        "pip install pgmpy"
      ]
    },
    {
      "cell_type": "code",
      "source": [
        "import pandas as pd\n",
        "import numpy as np\n",
        "from pgmpy.estimators import MmhcEstimator\n",
        "data = pd.read_csv('causal_20_100.csv')\n",
        "data['sum'] = data.sum(axis=1)\n",
        "est = MmhcEstimator(data)\n",
        "model = est.estimate()\n",
        "print(model.edges())"
      ],
      "metadata": {
        "colab": {
          "base_uri": "https://localhost:8080/",
          "height": 67,
          "referenced_widgets": [
            "58cd696ea16d42f4b79031e11a43dad4",
            "bb5de49be11c4058b1b9a6f25f6dfb4c",
            "48b6474aa0a048cfaa6e1d255424ab98",
            "175d97944b504cc2ba59cb610debb076",
            "a65d78e4cd9c49228269196d8638b5b7",
            "05f1e594c30d48fc94dcc9bf8d7cceb9",
            "e703ec16b1e34772b2bdc76637fe9dec",
            "3e3d61117a7b4d41918d3240fd9b313b",
            "2960a3f0acd34a3a943345daccac53c8",
            "5452ea30a2cf465a8c9ab6302da814ae",
            "e45194cee6ed4c538b5aa02435d7f82f"
          ]
        },
        "id": "bQgVL4XJrn8W",
        "outputId": "318659ca-d3d6-44ad-8d92-ea2ef9b2fe13"
      },
      "execution_count": 5,
      "outputs": [
        {
          "output_type": "display_data",
          "data": {
            "text/plain": [
              "  0%|          | 0/1000000 [00:00<?, ?it/s]"
            ],
            "application/vnd.jupyter.widget-view+json": {
              "version_major": 2,
              "version_minor": 0,
              "model_id": "58cd696ea16d42f4b79031e11a43dad4"
            }
          },
          "metadata": {}
        },
        {
          "output_type": "stream",
          "name": "stdout",
          "text": [
            "[('1', '18'), ('19', '9')]\n"
          ]
        }
      ]
    },
    {
      "cell_type": "code",
      "source": [
        "from pgmpy.estimators import PC\n",
        "est = PC(data)\n",
        "skel, sep_sets = est.build_skeleton()\n",
        "print(skel.edges())\n",
        "print(sep_sets)"
      ],
      "metadata": {
        "colab": {
          "base_uri": "https://localhost:8080/",
          "height": 105,
          "referenced_widgets": [
            "080a6090e2974c9fb2bcc57e58899b1f",
            "97548b01a4cd4f18b7a5dd393ce5c597",
            "35938d1f2ac34867a09f4f0563877131",
            "dd2757a13e034f25ba424d5eb16f4677",
            "5fde4695589142b498e874936f8380c2",
            "900056a124a8408581986314eb6fecd4",
            "20f3cd3c1baf43d88a201254c1531fc4",
            "5839bcbdbc46468fa669dd0aca9d5406",
            "6ddf4304489747e1a6a7dd60b28eeeae",
            "cec9eb87cf124dd783f60f1d3628b7c7",
            "fad4d72bae7c4e5dbd753145a9a5646e"
          ]
        },
        "id": "ohhKPQLzrtAr",
        "outputId": "586c87f8-6246-46d8-d2b1-779170d7deee"
      },
      "execution_count": 6,
      "outputs": [
        {
          "output_type": "display_data",
          "data": {
            "text/plain": [
              "  0%|          | 0/5 [00:00<?, ?it/s]"
            ],
            "application/vnd.jupyter.widget-view+json": {
              "version_major": 2,
              "version_minor": 0,
              "model_id": "080a6090e2974c9fb2bcc57e58899b1f"
            }
          },
          "metadata": {}
        },
        {
          "output_type": "stream",
          "name": "stdout",
          "text": [
            "[('1', 'sum')]\n",
            "{frozenset({'1', '0'}): (), frozenset({'0', '2'}): (), frozenset({'3', '0'}): (), frozenset({'0', '4'}): (), frozenset({'0', '5'}): (), frozenset({'0', '6'}): (), frozenset({'7', '0'}): (), frozenset({'0', '8'}): (), frozenset({'0', '9'}): (), frozenset({'10', '0'}): (), frozenset({'0', '11'}): (), frozenset({'0', '12'}): (), frozenset({'13', '0'}): (), frozenset({'14', '0'}): (), frozenset({'0', '15'}): (), frozenset({'16', '0'}): (), frozenset({'17', '0'}): (), frozenset({'0', '18'}): (), frozenset({'19', '0'}): (), frozenset({'sum', '0'}): (), frozenset({'1', '2'}): (), frozenset({'1', '3'}): (), frozenset({'1', '4'}): (), frozenset({'1', '5'}): (), frozenset({'1', '6'}): (), frozenset({'7', '1'}): (), frozenset({'1', '8'}): (), frozenset({'1', '9'}): (), frozenset({'1', '10'}): (), frozenset({'1', '11'}): (), frozenset({'1', '12'}): (), frozenset({'1', '13'}): (), frozenset({'1', '14'}): (), frozenset({'1', '15'}): (), frozenset({'16', '1'}): (), frozenset({'17', '1'}): (), frozenset({'1', '18'}): (), frozenset({'1', '19'}): (), frozenset({'3', '2'}): (), frozenset({'4', '2'}): (), frozenset({'5', '2'}): (), frozenset({'6', '2'}): (), frozenset({'7', '2'}): (), frozenset({'8', '2'}): (), frozenset({'9', '2'}): (), frozenset({'10', '2'}): (), frozenset({'11', '2'}): (), frozenset({'12', '2'}): (), frozenset({'13', '2'}): (), frozenset({'14', '2'}): (), frozenset({'15', '2'}): (), frozenset({'16', '2'}): (), frozenset({'17', '2'}): (), frozenset({'18', '2'}): (), frozenset({'19', '2'}): (), frozenset({'sum', '2'}): (), frozenset({'3', '4'}): (), frozenset({'3', '5'}): (), frozenset({'3', '6'}): (), frozenset({'7', '3'}): (), frozenset({'3', '8'}): (), frozenset({'3', '9'}): (), frozenset({'3', '10'}): (), frozenset({'3', '11'}): (), frozenset({'3', '12'}): (), frozenset({'3', '13'}): (), frozenset({'3', '14'}): (), frozenset({'3', '15'}): (), frozenset({'16', '3'}): (), frozenset({'17', '3'}): (), frozenset({'3', '18'}): (), frozenset({'3', '19'}): (), frozenset({'sum', '3'}): (), frozenset({'4', '5'}): (), frozenset({'4', '6'}): (), frozenset({'7', '4'}): (), frozenset({'4', '8'}): (), frozenset({'4', '9'}): (), frozenset({'10', '4'}): (), frozenset({'4', '11'}): (), frozenset({'4', '12'}): (), frozenset({'13', '4'}): (), frozenset({'14', '4'}): (), frozenset({'4', '15'}): (), frozenset({'16', '4'}): (), frozenset({'17', '4'}): (), frozenset({'18', '4'}): (), frozenset({'19', '4'}): (), frozenset({'sum', '4'}): (), frozenset({'6', '5'}): (), frozenset({'7', '5'}): (), frozenset({'8', '5'}): (), frozenset({'9', '5'}): (), frozenset({'10', '5'}): (), frozenset({'11', '5'}): (), frozenset({'12', '5'}): (), frozenset({'13', '5'}): (), frozenset({'14', '5'}): (), frozenset({'15', '5'}): (), frozenset({'16', '5'}): (), frozenset({'17', '5'}): (), frozenset({'18', '5'}): (), frozenset({'19', '5'}): (), frozenset({'sum', '5'}): (), frozenset({'7', '6'}): (), frozenset({'8', '6'}): (), frozenset({'9', '6'}): (), frozenset({'10', '6'}): (), frozenset({'11', '6'}): (), frozenset({'12', '6'}): (), frozenset({'13', '6'}): (), frozenset({'14', '6'}): (), frozenset({'15', '6'}): (), frozenset({'16', '6'}): (), frozenset({'17', '6'}): (), frozenset({'18', '6'}): (), frozenset({'19', '6'}): (), frozenset({'sum', '6'}): (), frozenset({'7', '8'}): (), frozenset({'7', '9'}): (), frozenset({'7', '10'}): (), frozenset({'7', '11'}): (), frozenset({'7', '12'}): (), frozenset({'7', '13'}): (), frozenset({'7', '14'}): (), frozenset({'7', '15'}): (), frozenset({'16', '7'}): (), frozenset({'17', '7'}): (), frozenset({'7', '18'}): (), frozenset({'7', '19'}): (), frozenset({'sum', '7'}): (), frozenset({'9', '8'}): (), frozenset({'10', '8'}): (), frozenset({'11', '8'}): (), frozenset({'12', '8'}): (), frozenset({'13', '8'}): (), frozenset({'14', '8'}): (), frozenset({'15', '8'}): (), frozenset({'16', '8'}): (), frozenset({'17', '8'}): (), frozenset({'18', '8'}): (), frozenset({'19', '8'}): (), frozenset({'sum', '8'}): (), frozenset({'10', '9'}): (), frozenset({'11', '9'}): (), frozenset({'12', '9'}): (), frozenset({'13', '9'}): (), frozenset({'14', '9'}): (), frozenset({'15', '9'}): (), frozenset({'16', '9'}): (), frozenset({'17', '9'}): (), frozenset({'18', '9'}): (), frozenset({'19', '9'}): (), frozenset({'sum', '9'}): (), frozenset({'10', '11'}): (), frozenset({'10', '12'}): (), frozenset({'10', '13'}): (), frozenset({'10', '14'}): (), frozenset({'10', '15'}): (), frozenset({'16', '10'}): (), frozenset({'17', '10'}): (), frozenset({'10', '18'}): (), frozenset({'10', '19'}): (), frozenset({'sum', '10'}): (), frozenset({'11', '12'}): (), frozenset({'13', '11'}): (), frozenset({'14', '11'}): (), frozenset({'11', '15'}): (), frozenset({'16', '11'}): (), frozenset({'17', '11'}): (), frozenset({'18', '11'}): (), frozenset({'19', '11'}): (), frozenset({'sum', '11'}): (), frozenset({'13', '12'}): (), frozenset({'14', '12'}): (), frozenset({'15', '12'}): (), frozenset({'16', '12'}): (), frozenset({'17', '12'}): (), frozenset({'18', '12'}): (), frozenset({'19', '12'}): (), frozenset({'sum', '12'}): (), frozenset({'13', '14'}): (), frozenset({'13', '15'}): (), frozenset({'16', '13'}): (), frozenset({'17', '13'}): (), frozenset({'13', '18'}): (), frozenset({'13', '19'}): (), frozenset({'sum', '13'}): (), frozenset({'14', '15'}): (), frozenset({'16', '14'}): (), frozenset({'17', '14'}): (), frozenset({'14', '18'}): (), frozenset({'14', '19'}): (), frozenset({'sum', '14'}): (), frozenset({'16', '15'}): (), frozenset({'17', '15'}): (), frozenset({'18', '15'}): (), frozenset({'19', '15'}): (), frozenset({'sum', '15'}): (), frozenset({'16', '17'}): (), frozenset({'16', '18'}): (), frozenset({'16', '19'}): (), frozenset({'16', 'sum'}): (), frozenset({'17', '18'}): (), frozenset({'17', '19'}): (), frozenset({'sum', '17'}): (), frozenset({'19', '18'}): (), frozenset({'sum', '18'}): (), frozenset({'sum', '19'}): ()}\n"
          ]
        }
      ]
    },
    {
      "cell_type": "code",
      "source": [],
      "metadata": {
        "id": "CHaJVAKFr90q"
      },
      "execution_count": null,
      "outputs": []
    }
  ]
}