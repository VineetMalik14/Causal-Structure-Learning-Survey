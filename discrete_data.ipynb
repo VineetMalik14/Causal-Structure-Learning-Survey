{
  "nbformat": 4,
  "nbformat_minor": 0,
  "metadata": {
    "colab": {
      "provenance": [],
      "authorship_tag": "ABX9TyM+kVi1x2o4KHdbS9bymcwP",
      "include_colab_link": true
    },
    "kernelspec": {
      "name": "python3",
      "display_name": "Python 3"
    },
    "language_info": {
      "name": "python"
    },
    "widgets": {
      "application/vnd.jupyter.widget-state+json": {
        "f89e5bdc59b14ffb9928156cddc5bfd4": {
          "model_module": "@jupyter-widgets/controls",
          "model_name": "HBoxModel",
          "model_module_version": "1.5.0",
          "state": {
            "_dom_classes": [],
            "_model_module": "@jupyter-widgets/controls",
            "_model_module_version": "1.5.0",
            "_model_name": "HBoxModel",
            "_view_count": null,
            "_view_module": "@jupyter-widgets/controls",
            "_view_module_version": "1.5.0",
            "_view_name": "HBoxView",
            "box_style": "",
            "children": [
              "IPY_MODEL_e38f95c6059540f6b55ef0036c8886aa",
              "IPY_MODEL_f17eadde25c14939aa7f53669b758aac",
              "IPY_MODEL_743350f787134e66b96332e07cbe2e2a"
            ],
            "layout": "IPY_MODEL_051a62b9c81e4c208edf148229532bad"
          }
        },
        "e38f95c6059540f6b55ef0036c8886aa": {
          "model_module": "@jupyter-widgets/controls",
          "model_name": "HTMLModel",
          "model_module_version": "1.5.0",
          "state": {
            "_dom_classes": [],
            "_model_module": "@jupyter-widgets/controls",
            "_model_module_version": "1.5.0",
            "_model_name": "HTMLModel",
            "_view_count": null,
            "_view_module": "@jupyter-widgets/controls",
            "_view_module_version": "1.5.0",
            "_view_name": "HTMLView",
            "description": "",
            "description_tooltip": null,
            "layout": "IPY_MODEL_412e370ede4c49a6a30459cfbdfc6757",
            "placeholder": "​",
            "style": "IPY_MODEL_ae3ecf7cdacd47d58cc2a1ae93812a64",
            "value": "Generating for node: 3: 100%"
          }
        },
        "f17eadde25c14939aa7f53669b758aac": {
          "model_module": "@jupyter-widgets/controls",
          "model_name": "FloatProgressModel",
          "model_module_version": "1.5.0",
          "state": {
            "_dom_classes": [],
            "_model_module": "@jupyter-widgets/controls",
            "_model_module_version": "1.5.0",
            "_model_name": "FloatProgressModel",
            "_view_count": null,
            "_view_module": "@jupyter-widgets/controls",
            "_view_module_version": "1.5.0",
            "_view_name": "ProgressView",
            "bar_style": "success",
            "description": "",
            "description_tooltip": null,
            "layout": "IPY_MODEL_002691ff609b44deb2f083d42ed72f8e",
            "max": 10,
            "min": 0,
            "orientation": "horizontal",
            "style": "IPY_MODEL_9b453286662149c8b7b2515007524723",
            "value": 10
          }
        },
        "743350f787134e66b96332e07cbe2e2a": {
          "model_module": "@jupyter-widgets/controls",
          "model_name": "HTMLModel",
          "model_module_version": "1.5.0",
          "state": {
            "_dom_classes": [],
            "_model_module": "@jupyter-widgets/controls",
            "_model_module_version": "1.5.0",
            "_model_name": "HTMLModel",
            "_view_count": null,
            "_view_module": "@jupyter-widgets/controls",
            "_view_module_version": "1.5.0",
            "_view_name": "HTMLView",
            "description": "",
            "description_tooltip": null,
            "layout": "IPY_MODEL_79cc0713b4c247dd9cb04130e752ab9b",
            "placeholder": "​",
            "style": "IPY_MODEL_02f57f8d4e52414c95188635298606da",
            "value": " 10/10 [00:00&lt;00:00, 46.39it/s]"
          }
        },
        "051a62b9c81e4c208edf148229532bad": {
          "model_module": "@jupyter-widgets/base",
          "model_name": "LayoutModel",
          "model_module_version": "1.2.0",
          "state": {
            "_model_module": "@jupyter-widgets/base",
            "_model_module_version": "1.2.0",
            "_model_name": "LayoutModel",
            "_view_count": null,
            "_view_module": "@jupyter-widgets/base",
            "_view_module_version": "1.2.0",
            "_view_name": "LayoutView",
            "align_content": null,
            "align_items": null,
            "align_self": null,
            "border": null,
            "bottom": null,
            "display": null,
            "flex": null,
            "flex_flow": null,
            "grid_area": null,
            "grid_auto_columns": null,
            "grid_auto_flow": null,
            "grid_auto_rows": null,
            "grid_column": null,
            "grid_gap": null,
            "grid_row": null,
            "grid_template_areas": null,
            "grid_template_columns": null,
            "grid_template_rows": null,
            "height": null,
            "justify_content": null,
            "justify_items": null,
            "left": null,
            "margin": null,
            "max_height": null,
            "max_width": null,
            "min_height": null,
            "min_width": null,
            "object_fit": null,
            "object_position": null,
            "order": null,
            "overflow": null,
            "overflow_x": null,
            "overflow_y": null,
            "padding": null,
            "right": null,
            "top": null,
            "visibility": null,
            "width": null
          }
        },
        "412e370ede4c49a6a30459cfbdfc6757": {
          "model_module": "@jupyter-widgets/base",
          "model_name": "LayoutModel",
          "model_module_version": "1.2.0",
          "state": {
            "_model_module": "@jupyter-widgets/base",
            "_model_module_version": "1.2.0",
            "_model_name": "LayoutModel",
            "_view_count": null,
            "_view_module": "@jupyter-widgets/base",
            "_view_module_version": "1.2.0",
            "_view_name": "LayoutView",
            "align_content": null,
            "align_items": null,
            "align_self": null,
            "border": null,
            "bottom": null,
            "display": null,
            "flex": null,
            "flex_flow": null,
            "grid_area": null,
            "grid_auto_columns": null,
            "grid_auto_flow": null,
            "grid_auto_rows": null,
            "grid_column": null,
            "grid_gap": null,
            "grid_row": null,
            "grid_template_areas": null,
            "grid_template_columns": null,
            "grid_template_rows": null,
            "height": null,
            "justify_content": null,
            "justify_items": null,
            "left": null,
            "margin": null,
            "max_height": null,
            "max_width": null,
            "min_height": null,
            "min_width": null,
            "object_fit": null,
            "object_position": null,
            "order": null,
            "overflow": null,
            "overflow_x": null,
            "overflow_y": null,
            "padding": null,
            "right": null,
            "top": null,
            "visibility": null,
            "width": null
          }
        },
        "ae3ecf7cdacd47d58cc2a1ae93812a64": {
          "model_module": "@jupyter-widgets/controls",
          "model_name": "DescriptionStyleModel",
          "model_module_version": "1.5.0",
          "state": {
            "_model_module": "@jupyter-widgets/controls",
            "_model_module_version": "1.5.0",
            "_model_name": "DescriptionStyleModel",
            "_view_count": null,
            "_view_module": "@jupyter-widgets/base",
            "_view_module_version": "1.2.0",
            "_view_name": "StyleView",
            "description_width": ""
          }
        },
        "002691ff609b44deb2f083d42ed72f8e": {
          "model_module": "@jupyter-widgets/base",
          "model_name": "LayoutModel",
          "model_module_version": "1.2.0",
          "state": {
            "_model_module": "@jupyter-widgets/base",
            "_model_module_version": "1.2.0",
            "_model_name": "LayoutModel",
            "_view_count": null,
            "_view_module": "@jupyter-widgets/base",
            "_view_module_version": "1.2.0",
            "_view_name": "LayoutView",
            "align_content": null,
            "align_items": null,
            "align_self": null,
            "border": null,
            "bottom": null,
            "display": null,
            "flex": null,
            "flex_flow": null,
            "grid_area": null,
            "grid_auto_columns": null,
            "grid_auto_flow": null,
            "grid_auto_rows": null,
            "grid_column": null,
            "grid_gap": null,
            "grid_row": null,
            "grid_template_areas": null,
            "grid_template_columns": null,
            "grid_template_rows": null,
            "height": null,
            "justify_content": null,
            "justify_items": null,
            "left": null,
            "margin": null,
            "max_height": null,
            "max_width": null,
            "min_height": null,
            "min_width": null,
            "object_fit": null,
            "object_position": null,
            "order": null,
            "overflow": null,
            "overflow_x": null,
            "overflow_y": null,
            "padding": null,
            "right": null,
            "top": null,
            "visibility": null,
            "width": null
          }
        },
        "9b453286662149c8b7b2515007524723": {
          "model_module": "@jupyter-widgets/controls",
          "model_name": "ProgressStyleModel",
          "model_module_version": "1.5.0",
          "state": {
            "_model_module": "@jupyter-widgets/controls",
            "_model_module_version": "1.5.0",
            "_model_name": "ProgressStyleModel",
            "_view_count": null,
            "_view_module": "@jupyter-widgets/base",
            "_view_module_version": "1.2.0",
            "_view_name": "StyleView",
            "bar_color": null,
            "description_width": ""
          }
        },
        "79cc0713b4c247dd9cb04130e752ab9b": {
          "model_module": "@jupyter-widgets/base",
          "model_name": "LayoutModel",
          "model_module_version": "1.2.0",
          "state": {
            "_model_module": "@jupyter-widgets/base",
            "_model_module_version": "1.2.0",
            "_model_name": "LayoutModel",
            "_view_count": null,
            "_view_module": "@jupyter-widgets/base",
            "_view_module_version": "1.2.0",
            "_view_name": "LayoutView",
            "align_content": null,
            "align_items": null,
            "align_self": null,
            "border": null,
            "bottom": null,
            "display": null,
            "flex": null,
            "flex_flow": null,
            "grid_area": null,
            "grid_auto_columns": null,
            "grid_auto_flow": null,
            "grid_auto_rows": null,
            "grid_column": null,
            "grid_gap": null,
            "grid_row": null,
            "grid_template_areas": null,
            "grid_template_columns": null,
            "grid_template_rows": null,
            "height": null,
            "justify_content": null,
            "justify_items": null,
            "left": null,
            "margin": null,
            "max_height": null,
            "max_width": null,
            "min_height": null,
            "min_width": null,
            "object_fit": null,
            "object_position": null,
            "order": null,
            "overflow": null,
            "overflow_x": null,
            "overflow_y": null,
            "padding": null,
            "right": null,
            "top": null,
            "visibility": null,
            "width": null
          }
        },
        "02f57f8d4e52414c95188635298606da": {
          "model_module": "@jupyter-widgets/controls",
          "model_name": "DescriptionStyleModel",
          "model_module_version": "1.5.0",
          "state": {
            "_model_module": "@jupyter-widgets/controls",
            "_model_module_version": "1.5.0",
            "_model_name": "DescriptionStyleModel",
            "_view_count": null,
            "_view_module": "@jupyter-widgets/base",
            "_view_module_version": "1.2.0",
            "_view_name": "StyleView",
            "description_width": ""
          }
        }
      }
    }
  },
  "cells": [
    {
      "cell_type": "markdown",
      "metadata": {
        "id": "view-in-github",
        "colab_type": "text"
      },
      "source": [
        "<a href=\"https://colab.research.google.com/github/VineetMalik14/Causal-Structure-Learning-Survey/blob/main/discrete_data.ipynb\" target=\"_parent\"><img src=\"https://colab.research.google.com/assets/colab-badge.svg\" alt=\"Open In Colab\"/></a>"
      ]
    },
    {
      "cell_type": "code",
      "execution_count": 5,
      "metadata": {
        "colab": {
          "base_uri": "https://localhost:8080/"
        },
        "id": "nd1rqrhcqhiD",
        "outputId": "c12ce5b5-abde-4bf9-cb88-bc63a275360c"
      },
      "outputs": [
        {
          "output_type": "stream",
          "name": "stdout",
          "text": [
            "Looking in indexes: https://pypi.org/simple, https://us-python.pkg.dev/colab-wheels/public/simple/\n",
            "Requirement already satisfied: pgmpy in /usr/local/lib/python3.9/dist-packages (0.1.22)\n",
            "Requirement already satisfied: numpy in /usr/local/lib/python3.9/dist-packages (1.22.4)\n",
            "Requirement already satisfied: networkx in /usr/local/lib/python3.9/dist-packages (3.1)\n",
            "Requirement already satisfied: opt-einsum in /usr/local/lib/python3.9/dist-packages (from pgmpy) (3.3.0)\n",
            "Requirement already satisfied: torch in /usr/local/lib/python3.9/dist-packages (from pgmpy) (2.0.0+cu118)\n",
            "Requirement already satisfied: scipy in /usr/local/lib/python3.9/dist-packages (from pgmpy) (1.10.1)\n",
            "Requirement already satisfied: statsmodels in /usr/local/lib/python3.9/dist-packages (from pgmpy) (0.13.5)\n",
            "Requirement already satisfied: scikit-learn in /usr/local/lib/python3.9/dist-packages (from pgmpy) (1.2.2)\n",
            "Requirement already satisfied: pyparsing in /usr/local/lib/python3.9/dist-packages (from pgmpy) (3.0.9)\n",
            "Requirement already satisfied: pandas in /usr/local/lib/python3.9/dist-packages (from pgmpy) (1.5.3)\n",
            "Requirement already satisfied: tqdm in /usr/local/lib/python3.9/dist-packages (from pgmpy) (4.65.0)\n",
            "Requirement already satisfied: joblib in /usr/local/lib/python3.9/dist-packages (from pgmpy) (1.2.0)\n",
            "Requirement already satisfied: pytz>=2020.1 in /usr/local/lib/python3.9/dist-packages (from pandas->pgmpy) (2022.7.1)\n",
            "Requirement already satisfied: python-dateutil>=2.8.1 in /usr/local/lib/python3.9/dist-packages (from pandas->pgmpy) (2.8.2)\n",
            "Requirement already satisfied: threadpoolctl>=2.0.0 in /usr/local/lib/python3.9/dist-packages (from scikit-learn->pgmpy) (3.1.0)\n",
            "Requirement already satisfied: patsy>=0.5.2 in /usr/local/lib/python3.9/dist-packages (from statsmodels->pgmpy) (0.5.3)\n",
            "Requirement already satisfied: packaging>=21.3 in /usr/local/lib/python3.9/dist-packages (from statsmodels->pgmpy) (23.1)\n",
            "Requirement already satisfied: jinja2 in /usr/local/lib/python3.9/dist-packages (from torch->pgmpy) (3.1.2)\n",
            "Requirement already satisfied: triton==2.0.0 in /usr/local/lib/python3.9/dist-packages (from torch->pgmpy) (2.0.0)\n",
            "Requirement already satisfied: filelock in /usr/local/lib/python3.9/dist-packages (from torch->pgmpy) (3.11.0)\n",
            "Requirement already satisfied: typing-extensions in /usr/local/lib/python3.9/dist-packages (from torch->pgmpy) (4.5.0)\n",
            "Requirement already satisfied: sympy in /usr/local/lib/python3.9/dist-packages (from torch->pgmpy) (1.11.1)\n",
            "Requirement already satisfied: cmake in /usr/local/lib/python3.9/dist-packages (from triton==2.0.0->torch->pgmpy) (3.25.2)\n",
            "Requirement already satisfied: lit in /usr/local/lib/python3.9/dist-packages (from triton==2.0.0->torch->pgmpy) (16.0.1)\n",
            "Requirement already satisfied: six in /usr/local/lib/python3.9/dist-packages (from patsy>=0.5.2->statsmodels->pgmpy) (1.16.0)\n",
            "Requirement already satisfied: MarkupSafe>=2.0 in /usr/local/lib/python3.9/dist-packages (from jinja2->torch->pgmpy) (2.1.2)\n",
            "Requirement already satisfied: mpmath>=0.19 in /usr/local/lib/python3.9/dist-packages (from sympy->torch->pgmpy) (1.3.0)\n"
          ]
        }
      ],
      "source": [
        "!pip install pgmpy numpy networkx"
      ]
    },
    {
      "cell_type": "code",
      "source": [
        "import numpy as np\n",
        "import networkx as nx\n",
        "from pgmpy.models import BayesianModel\n",
        "from pgmpy.sampling import BayesianModelSampling\n",
        "from pgmpy.factors.discrete import TabularCPD\n",
        "import random"
      ],
      "metadata": {
        "id": "uNt0h9ADZUh1"
      },
      "execution_count": 6,
      "outputs": []
    },
    {
      "cell_type": "code",
      "source": [
        "def set_random_seed(seed):\n",
        "    random.seed(seed)\n",
        "    np.random.seed(seed)\n",
        "\n",
        "def _graph_to_adjmat(G):\n",
        "    return nx.to_numpy_array(G)\n",
        "\n",
        "def _random_permutation(M):\n",
        "    # np.random.permutation permutes first axis only\n",
        "    P = np.random.permutation(np.eye(M.shape[0]))\n",
        "    return P.T @ M @ P\n",
        "\n",
        "def _random_acyclic_orientation(B_und):\n",
        "    B = np.tril(_random_permutation(B_und), k=-1)\n",
        "    B_perm = _random_permutation(B)\n",
        "    return B_perm\n",
        "\n",
        "def erdos_renyi(n_nodes, n_edges, seed=None):\n",
        "    assert n_nodes > 0\n",
        "    set_random_seed(seed)\n",
        "    # Erdos-Renyi\n",
        "    creation_prob = (2 * n_edges) / (n_nodes ** 2)\n",
        "    G_und = nx.erdos_renyi_graph(n=n_nodes, p=creation_prob, seed=seed)\n",
        "    B_und = _graph_to_adjmat(G_und)\n",
        "    B = _random_acyclic_orientation(B_und)\n",
        "    return B\n",
        "\n",
        "def generate_random_dag(num_nodes, num_edges):\n",
        "    G = nx.DiGraph()\n",
        "    G.add_nodes_from(range(num_nodes))\n",
        "    \n",
        "    while G.number_of_edges() < num_edges:\n",
        "        u, v = np.random.choice(num_nodes, size=2, replace=False)\n",
        "        if u == v or G.has_edge(u, v):\n",
        "            continue\n",
        "        G.add_edge(u, v)\n",
        "        if not nx.is_directed_acyclic_graph(G):\n",
        "            G.remove_edge(u, v)\n",
        "            \n",
        "    return G\n",
        "\n",
        "def generate_random_cpd(variable, variable_card, evidence, evidence_cards):\n",
        "    if len(evidence) == 0:\n",
        "        probabilities = np.random.dirichlet(np.ones(variable_card))\n",
        "        probabilities = np.array([probabilities])\n",
        "        probabilities = probabilities.T\n",
        "        cpd = TabularCPD(variable, variable_card, probabilities)\n",
        "    else:\n",
        "        num_rows = variable_card\n",
        "        num_cols = np.prod(evidence_cards)\n",
        "        probabilities = np.random.dirichlet(np.ones(num_rows), size=num_cols)\n",
        "        cpd = TabularCPD(variable, variable_card, probabilities.T,\n",
        "                         evidence=evidence, evidence_card=evidence_cards)\n",
        "    return cpd"
      ],
      "metadata": {
        "id": "jrKi7iihYqDT"
      },
      "execution_count": 15,
      "outputs": []
    },
    {
      "cell_type": "code",
      "source": [
        "# Set the number of nodes and edges\n",
        "num_nodes = 10\n",
        "num_edges = 2 * num_nodes\n",
        "\n",
        "# Set the number of categories for each variable (assuming the same for all)\n",
        "variable_card = 2\n",
        "\n",
        "# Generate a random DAG\n",
        "# random_dag = generate_random_dag(num_nodes, num_edges)\n",
        "\n",
        "seed = random.randint(0,9)\n",
        "random_dag = erdos_renyi(n_nodes=num_nodes, n_edges=num_edges, seed=seed)\n",
        "random_dag = nx.from_numpy_array(random_dag, create_using=nx.DiGraph)\n",
        "print(type(random_dag))\n",
        "edges = list(random_dag.edges)\n",
        "\n",
        "# Create a Bayesian network with the random DAG\n",
        "model = BayesianModel(edges)\n",
        "\n",
        "# Generate random CPD tables and add them to the Bayesian network\n",
        "for node in random_dag.nodes:\n",
        "    parent_nodes = list(random_dag.predecessors(node))\n",
        "    parent_cards = [variable_card] * len(parent_nodes)\n",
        "    cpd = generate_random_cpd(node, variable_card, parent_nodes, parent_cards)\n",
        "    model.add_cpds(cpd)\n",
        "\n",
        "# Verify if the model is consistent\n",
        "assert model.check_model()\n",
        "\n",
        "# Set the number of samples you want to generate\n",
        "num_samples = 1000\n",
        "\n",
        "# Instantiate the sampling class and generate samples\n",
        "inference = BayesianModelSampling(model)\n",
        "synthetic_data = inference.forward_sample(size=num_samples)\n",
        "\n",
        "# Print the synthetic data\n",
        "print(synthetic_data)"
      ],
      "metadata": {
        "colab": {
          "base_uri": "https://localhost:8080/",
          "height": 433,
          "referenced_widgets": [
            "f89e5bdc59b14ffb9928156cddc5bfd4",
            "e38f95c6059540f6b55ef0036c8886aa",
            "f17eadde25c14939aa7f53669b758aac",
            "743350f787134e66b96332e07cbe2e2a",
            "051a62b9c81e4c208edf148229532bad",
            "412e370ede4c49a6a30459cfbdfc6757",
            "ae3ecf7cdacd47d58cc2a1ae93812a64",
            "002691ff609b44deb2f083d42ed72f8e",
            "9b453286662149c8b7b2515007524723",
            "79cc0713b4c247dd9cb04130e752ab9b",
            "02f57f8d4e52414c95188635298606da"
          ]
        },
        "id": "PL89Kd0dq0j7",
        "outputId": "86e68043-8e1e-4210-e5bd-e576ef4ae896"
      },
      "execution_count": 21,
      "outputs": [
        {
          "output_type": "stream",
          "name": "stdout",
          "text": [
            "<class 'networkx.classes.digraph.DiGraph'>\n"
          ]
        },
        {
          "output_type": "stream",
          "name": "stderr",
          "text": [
            "/usr/local/lib/python3.9/dist-packages/pgmpy/models/BayesianModel.py:8: FutureWarning: BayesianModel has been renamed to BayesianNetwork. Please use BayesianNetwork class, BayesianModel will be removed in future.\n",
            "  warnings.warn(\n"
          ]
        },
        {
          "output_type": "display_data",
          "data": {
            "text/plain": [
              "  0%|          | 0/10 [00:00<?, ?it/s]"
            ],
            "application/vnd.jupyter.widget-view+json": {
              "version_major": 2,
              "version_minor": 0,
              "model_id": "f89e5bdc59b14ffb9928156cddc5bfd4"
            }
          },
          "metadata": {}
        },
        {
          "output_type": "stream",
          "name": "stdout",
          "text": [
            "     0  1  2  4  3  9  5  6  7  8\n",
            "0    0  1  1  0  0  0  0  0  1  1\n",
            "1    1  1  0  0  0  1  0  0  1  0\n",
            "2    0  0  1  0  0  0  0  0  1  0\n",
            "3    1  0  0  0  0  0  0  0  1  1\n",
            "4    1  1  1  0  1  0  1  0  1  1\n",
            "..  .. .. .. .. .. .. .. .. .. ..\n",
            "995  0  1  1  1  1  1  1  0  1  0\n",
            "996  1  1  0  0  0  0  1  0  1  0\n",
            "997  1  1  1  0  1  0  1  0  1  1\n",
            "998  1  0  1  0  1  1  1  0  1  1\n",
            "999  1  1  1  1  0  1  1  1  1  0\n",
            "\n",
            "[1000 rows x 10 columns]\n"
          ]
        },
        {
          "output_type": "stream",
          "name": "stderr",
          "text": [
            "/usr/local/lib/python3.9/dist-packages/pgmpy/utils/mathext.py:82: UserWarning: Probability values don't exactly sum to 1. Differ by: 1.1102230246251565e-16. Adjusting values.\n",
            "  warn(\n",
            "/usr/local/lib/python3.9/dist-packages/pgmpy/utils/mathext.py:82: UserWarning: Probability values don't exactly sum to 1. Differ by: -2.220446049250313e-16. Adjusting values.\n",
            "  warn(\n"
          ]
        }
      ]
    },
    {
      "cell_type": "code",
      "source": [
        "# synthetic_data.to_csv('synthetic_data.csv', index=False)"
      ],
      "metadata": {
        "id": "SRIUB8vkrhBX"
      },
      "execution_count": null,
      "outputs": []
    }
  ]
}