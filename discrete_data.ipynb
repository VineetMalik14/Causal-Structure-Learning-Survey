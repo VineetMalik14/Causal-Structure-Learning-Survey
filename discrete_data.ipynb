{
  "nbformat": 4,
  "nbformat_minor": 0,
  "metadata": {
    "colab": {
      "provenance": [],
      "authorship_tag": "ABX9TyOilNiR7ZPKHojyIW0mFcI7",
      "include_colab_link": true
    },
    "kernelspec": {
      "name": "python3",
      "display_name": "Python 3"
    },
    "language_info": {
      "name": "python"
    }
  },
  "cells": [
    {
      "cell_type": "markdown",
      "metadata": {
        "id": "view-in-github",
        "colab_type": "text"
      },
      "source": [
        "<a href=\"https://colab.research.google.com/github/VineetMalik14/Causal-Structure-Learning-Survey/blob/main/discrete_data.ipynb\" target=\"_parent\"><img src=\"https://colab.research.google.com/assets/colab-badge.svg\" alt=\"Open In Colab\"/></a>"
      ]
    },
    {
      "cell_type": "code",
      "execution_count": 1,
      "metadata": {
        "colab": {
          "base_uri": "https://localhost:8080/"
        },
        "id": "nd1rqrhcqhiD",
        "outputId": "05c2882f-2d43-4ac5-fc04-d8c4596be969"
      },
      "outputs": [
        {
          "output_type": "stream",
          "name": "stdout",
          "text": [
            "Looking in indexes: https://pypi.org/simple, https://us-python.pkg.dev/colab-wheels/public/simple/\n",
            "Collecting pgmpy\n",
            "  Downloading pgmpy-0.1.22-py3-none-any.whl (1.9 MB)\n",
            "\u001b[2K     \u001b[90m━━━━━━━━━━━━━━━━━━━━━━━━━━━━━━━━━━━━━━━━\u001b[0m \u001b[32m1.9/1.9 MB\u001b[0m \u001b[31m19.0 MB/s\u001b[0m eta \u001b[36m0:00:00\u001b[0m\n",
            "\u001b[?25hRequirement already satisfied: numpy in /usr/local/lib/python3.10/dist-packages (1.22.4)\n",
            "Requirement already satisfied: networkx in /usr/local/lib/python3.10/dist-packages (3.1)\n",
            "Requirement already satisfied: pandas in /usr/local/lib/python3.10/dist-packages (from pgmpy) (1.5.3)\n",
            "Requirement already satisfied: torch in /usr/local/lib/python3.10/dist-packages (from pgmpy) (2.0.0+cu118)\n",
            "Requirement already satisfied: scipy in /usr/local/lib/python3.10/dist-packages (from pgmpy) (1.10.1)\n",
            "Requirement already satisfied: joblib in /usr/local/lib/python3.10/dist-packages (from pgmpy) (1.2.0)\n",
            "Requirement already satisfied: statsmodels in /usr/local/lib/python3.10/dist-packages (from pgmpy) (0.13.5)\n",
            "Requirement already satisfied: scikit-learn in /usr/local/lib/python3.10/dist-packages (from pgmpy) (1.2.2)\n",
            "Requirement already satisfied: tqdm in /usr/local/lib/python3.10/dist-packages (from pgmpy) (4.65.0)\n",
            "Requirement already satisfied: pyparsing in /usr/local/lib/python3.10/dist-packages (from pgmpy) (3.0.9)\n",
            "Requirement already satisfied: opt-einsum in /usr/local/lib/python3.10/dist-packages (from pgmpy) (3.3.0)\n",
            "Requirement already satisfied: pytz>=2020.1 in /usr/local/lib/python3.10/dist-packages (from pandas->pgmpy) (2022.7.1)\n",
            "Requirement already satisfied: python-dateutil>=2.8.1 in /usr/local/lib/python3.10/dist-packages (from pandas->pgmpy) (2.8.2)\n",
            "Requirement already satisfied: threadpoolctl>=2.0.0 in /usr/local/lib/python3.10/dist-packages (from scikit-learn->pgmpy) (3.1.0)\n",
            "Requirement already satisfied: patsy>=0.5.2 in /usr/local/lib/python3.10/dist-packages (from statsmodels->pgmpy) (0.5.3)\n",
            "Requirement already satisfied: packaging>=21.3 in /usr/local/lib/python3.10/dist-packages (from statsmodels->pgmpy) (23.1)\n",
            "Requirement already satisfied: sympy in /usr/local/lib/python3.10/dist-packages (from torch->pgmpy) (1.11.1)\n",
            "Requirement already satisfied: triton==2.0.0 in /usr/local/lib/python3.10/dist-packages (from torch->pgmpy) (2.0.0)\n",
            "Requirement already satisfied: jinja2 in /usr/local/lib/python3.10/dist-packages (from torch->pgmpy) (3.1.2)\n",
            "Requirement already satisfied: typing-extensions in /usr/local/lib/python3.10/dist-packages (from torch->pgmpy) (4.5.0)\n",
            "Requirement already satisfied: filelock in /usr/local/lib/python3.10/dist-packages (from torch->pgmpy) (3.12.0)\n",
            "Requirement already satisfied: cmake in /usr/local/lib/python3.10/dist-packages (from triton==2.0.0->torch->pgmpy) (3.25.2)\n",
            "Requirement already satisfied: lit in /usr/local/lib/python3.10/dist-packages (from triton==2.0.0->torch->pgmpy) (16.0.2)\n",
            "Requirement already satisfied: six in /usr/local/lib/python3.10/dist-packages (from patsy>=0.5.2->statsmodels->pgmpy) (1.16.0)\n",
            "Requirement already satisfied: MarkupSafe>=2.0 in /usr/local/lib/python3.10/dist-packages (from jinja2->torch->pgmpy) (2.1.2)\n",
            "Requirement already satisfied: mpmath>=0.19 in /usr/local/lib/python3.10/dist-packages (from sympy->torch->pgmpy) (1.3.0)\n",
            "Installing collected packages: pgmpy\n",
            "Successfully installed pgmpy-0.1.22\n"
          ]
        }
      ],
      "source": [
        "!pip install pgmpy numpy networkx"
      ]
    },
    {
      "cell_type": "code",
      "source": [
        "import numpy as np\n",
        "import networkx as nx\n",
        "from pgmpy.models import BayesianModel\n",
        "from pgmpy.sampling import BayesianModelSampling\n",
        "from pgmpy.factors.discrete import TabularCPD\n",
        "import random\n",
        "import pandas as pd\n",
        "import os"
      ],
      "metadata": {
        "id": "uNt0h9ADZUh1"
      },
      "execution_count": 9,
      "outputs": []
    },
    {
      "cell_type": "code",
      "source": [
        "def set_random_seed(seed):\n",
        "    random.seed(seed)\n",
        "    np.random.seed(seed)\n",
        "\n",
        "def _graph_to_adjmat(G):\n",
        "    return nx.to_numpy_array(G)\n",
        "\n",
        "def _random_permutation(M):\n",
        "    # np.random.permutation permutes first axis only\n",
        "    P = np.random.permutation(np.eye(M.shape[0]))\n",
        "    return P.T @ M @ P\n",
        "\n",
        "def _random_acyclic_orientation(B_und):\n",
        "    B = np.tril(_random_permutation(B_und), k=-1)\n",
        "    B_perm = _random_permutation(B)\n",
        "    return B_perm\n",
        "\n",
        "def erdos_renyi(n_nodes, n_edges, seed=None):\n",
        "    assert n_nodes > 0\n",
        "    set_random_seed(seed)\n",
        "    # Erdos-Renyi\n",
        "    creation_prob = (2 * n_edges) / (n_nodes ** 2)\n",
        "    G_und = nx.erdos_renyi_graph(n=n_nodes, p=creation_prob, seed=seed)\n",
        "    B_und = _graph_to_adjmat(G_und)\n",
        "    B = _random_acyclic_orientation(B_und)\n",
        "    return B\n",
        "\n",
        "def generate_random_dag(num_nodes, num_edges):\n",
        "    G = nx.DiGraph()\n",
        "    G.add_nodes_from(range(num_nodes))\n",
        "    \n",
        "    while G.number_of_edges() < num_edges:\n",
        "        u, v = np.random.choice(num_nodes, size=2, replace=False)\n",
        "        if u == v or G.has_edge(u, v):\n",
        "            continue\n",
        "        G.add_edge(u, v)\n",
        "        if not nx.is_directed_acyclic_graph(G):\n",
        "            G.remove_edge(u, v)\n",
        "            \n",
        "    return G\n",
        "\n",
        "def generate_random_cpd(variable, variable_card, evidence, evidence_cards):\n",
        "    if len(evidence) == 0:\n",
        "        probabilities = np.random.dirichlet(np.ones(variable_card))\n",
        "        probabilities = np.array([probabilities])\n",
        "        probabilities = probabilities.T\n",
        "        cpd = TabularCPD(variable, variable_card, probabilities)\n",
        "    else:\n",
        "        num_rows = variable_card\n",
        "        num_cols = np.prod(evidence_cards)\n",
        "        probabilities = np.random.dirichlet(np.ones(num_rows), size=num_cols)\n",
        "        cpd = TabularCPD(variable, variable_card, probabilities.T,\n",
        "                         evidence=evidence, evidence_card=evidence_cards)\n",
        "    return cpd"
      ],
      "metadata": {
        "id": "jrKi7iihYqDT"
      },
      "execution_count": 10,
      "outputs": []
    },
    {
      "cell_type": "code",
      "source": [
        "def generate_discrete_data(num_nodes, num_edges, num_samples, seed):\n",
        "    # Set the number of categories for each variable (assuming the same for all)\n",
        "    variable_card = 2\n",
        "\n",
        "    # Generate a random DAG\n",
        "    # random_dag = generate_random_dag(num_nodes, num_edges)\n",
        "\n",
        "    # seed = random.randint(0,9)\n",
        "\n",
        "    random_dag = erdos_renyi(n_nodes=num_nodes, n_edges=num_edges, seed=seed)\n",
        "    random_dag = nx.from_numpy_array(random_dag, create_using=nx.DiGraph)\n",
        "    print(type(random_dag))\n",
        "    edges = list(random_dag.edges)\n",
        "\n",
        "    # Create a Bayesian network with the random DAG\n",
        "    model = BayesianModel(edges)\n",
        "\n",
        "    # Generate random CPD tables and add them to the Bayesian network\n",
        "    for node in random_dag.nodes:\n",
        "        parent_nodes = list(random_dag.predecessors(node))\n",
        "        parent_cards = [variable_card] * len(parent_nodes)\n",
        "        cpd = generate_random_cpd(node, variable_card, parent_nodes, parent_cards)\n",
        "        model.add_cpds(cpd)\n",
        "\n",
        "    # Verify if the model is consistent\n",
        "    assert model.check_model()\n",
        "\n",
        "    # Instantiate the sampling class and generate samples\n",
        "    inference = BayesianModelSampling(model)\n",
        "    synthetic_data = inference.forward_sample(size=num_samples)\n",
        "\n",
        "    causal_data = pd.DataFrame(nx.to_numpy_array(random_dag))\n",
        "    return synthetic_data, causal_data"
      ],
      "metadata": {
        "id": "PL89Kd0dq0j7"
      },
      "execution_count": 11,
      "outputs": []
    },
    {
      "cell_type": "code",
      "source": [
        "FOLDER_PATH  = \"./discrete_data/\"\n",
        "\n",
        "for n in [10, 30, 50]:\n",
        "    for density in [1, 1.5]:\n",
        "        p = pow(n, density-2)\n",
        "        n_edges = int(n*n*p/2)\n",
        "        max_sample_size = 4000\n",
        "        for seed in range(3):\n",
        "            X, true_causal_matrix = generate_discrete_data(n, n_edges, max_sample_size, seed)\n",
        "            for sample_size in [1000, 4000]:\n",
        "                file_name = \"_d_{}_{}_{}_{}.csv\".format(n, density, sample_size, seed) \n",
        "                true_causal_matrix.to_csv(os.path.join(FOLDER_PATH, \"causal\"+file_name), index=False)\n",
        "                sample_sized_data = X\n",
        "                sample_sized_data = sample_sized_data.head(sample_size)\n",
        "                sample_sized_data.to_csv(os.path.join(FOLDER_PATH, \"sim_data\"+file_name), index=False)"
      ],
      "metadata": {
        "id": "SRIUB8vkrhBX",
        "outputId": "859f91ae-069a-49d5-a104-7349397e2ea1",
        "colab": {
          "base_uri": "https://localhost:8080/",
          "height": 573
        }
      },
      "execution_count": 12,
      "outputs": [
        {
          "output_type": "stream",
          "name": "stdout",
          "text": [
            "<class 'networkx.classes.digraph.DiGraph'>\n"
          ]
        },
        {
          "output_type": "stream",
          "name": "stderr",
          "text": [
            "/usr/local/lib/python3.10/dist-packages/pgmpy/models/BayesianModel.py:8: FutureWarning: BayesianModel has been renamed to BayesianNetwork. Please use BayesianNetwork class, BayesianModel will be removed in future.\n",
            "  warnings.warn(\n"
          ]
        },
        {
          "output_type": "error",
          "ename": "ValueError",
          "evalue": "ignored",
          "traceback": [
            "\u001b[0;31m---------------------------------------------------------------------------\u001b[0m",
            "\u001b[0;31mValueError\u001b[0m                                Traceback (most recent call last)",
            "\u001b[0;32m<ipython-input-12-1fd9361ecb93>\u001b[0m in \u001b[0;36m<cell line: 3>\u001b[0;34m()\u001b[0m\n\u001b[1;32m      7\u001b[0m         \u001b[0mmax_sample_size\u001b[0m \u001b[0;34m=\u001b[0m \u001b[0;36m4000\u001b[0m\u001b[0;34m\u001b[0m\u001b[0;34m\u001b[0m\u001b[0m\n\u001b[1;32m      8\u001b[0m         \u001b[0;32mfor\u001b[0m \u001b[0mseed\u001b[0m \u001b[0;32min\u001b[0m \u001b[0mrange\u001b[0m\u001b[0;34m(\u001b[0m\u001b[0;36m3\u001b[0m\u001b[0;34m)\u001b[0m\u001b[0;34m:\u001b[0m\u001b[0;34m\u001b[0m\u001b[0;34m\u001b[0m\u001b[0m\n\u001b[0;32m----> 9\u001b[0;31m             \u001b[0mX\u001b[0m\u001b[0;34m,\u001b[0m \u001b[0mtrue_causal_matrix\u001b[0m \u001b[0;34m=\u001b[0m \u001b[0mgenerate_discrete_data\u001b[0m\u001b[0;34m(\u001b[0m\u001b[0mn\u001b[0m\u001b[0;34m,\u001b[0m \u001b[0mn_edges\u001b[0m\u001b[0;34m,\u001b[0m \u001b[0mmax_sample_size\u001b[0m\u001b[0;34m,\u001b[0m \u001b[0mseed\u001b[0m\u001b[0;34m)\u001b[0m\u001b[0;34m\u001b[0m\u001b[0;34m\u001b[0m\u001b[0m\n\u001b[0m\u001b[1;32m     10\u001b[0m             \u001b[0;32mfor\u001b[0m \u001b[0msample_size\u001b[0m \u001b[0;32min\u001b[0m \u001b[0;34m[\u001b[0m\u001b[0;36m1000\u001b[0m\u001b[0;34m,\u001b[0m \u001b[0;36m4000\u001b[0m\u001b[0;34m]\u001b[0m\u001b[0;34m:\u001b[0m\u001b[0;34m\u001b[0m\u001b[0;34m\u001b[0m\u001b[0m\n\u001b[1;32m     11\u001b[0m                 \u001b[0mfile_name\u001b[0m \u001b[0;34m=\u001b[0m \u001b[0;34m\"_d_{}_{}_{}_{}.csv\"\u001b[0m\u001b[0;34m.\u001b[0m\u001b[0mformat\u001b[0m\u001b[0;34m(\u001b[0m\u001b[0mn\u001b[0m\u001b[0;34m,\u001b[0m \u001b[0mdensity\u001b[0m\u001b[0;34m,\u001b[0m \u001b[0msample_size\u001b[0m\u001b[0;34m,\u001b[0m \u001b[0mseed\u001b[0m\u001b[0;34m)\u001b[0m\u001b[0;34m\u001b[0m\u001b[0;34m\u001b[0m\u001b[0m\n",
            "\u001b[0;32m<ipython-input-11-d9d4d5b3e03a>\u001b[0m in \u001b[0;36mgenerate_discrete_data\u001b[0;34m(num_nodes, num_edges, num_samples, seed)\u001b[0m\n\u001b[1;32m     21\u001b[0m         \u001b[0mparent_cards\u001b[0m \u001b[0;34m=\u001b[0m \u001b[0;34m[\u001b[0m\u001b[0mvariable_card\u001b[0m\u001b[0;34m]\u001b[0m \u001b[0;34m*\u001b[0m \u001b[0mlen\u001b[0m\u001b[0;34m(\u001b[0m\u001b[0mparent_nodes\u001b[0m\u001b[0;34m)\u001b[0m\u001b[0;34m\u001b[0m\u001b[0;34m\u001b[0m\u001b[0m\n\u001b[1;32m     22\u001b[0m         \u001b[0mcpd\u001b[0m \u001b[0;34m=\u001b[0m \u001b[0mgenerate_random_cpd\u001b[0m\u001b[0;34m(\u001b[0m\u001b[0mnode\u001b[0m\u001b[0;34m,\u001b[0m \u001b[0mvariable_card\u001b[0m\u001b[0;34m,\u001b[0m \u001b[0mparent_nodes\u001b[0m\u001b[0;34m,\u001b[0m \u001b[0mparent_cards\u001b[0m\u001b[0;34m)\u001b[0m\u001b[0;34m\u001b[0m\u001b[0;34m\u001b[0m\u001b[0m\n\u001b[0;32m---> 23\u001b[0;31m         \u001b[0mmodel\u001b[0m\u001b[0;34m.\u001b[0m\u001b[0madd_cpds\u001b[0m\u001b[0;34m(\u001b[0m\u001b[0mcpd\u001b[0m\u001b[0;34m)\u001b[0m\u001b[0;34m\u001b[0m\u001b[0;34m\u001b[0m\u001b[0m\n\u001b[0m\u001b[1;32m     24\u001b[0m \u001b[0;34m\u001b[0m\u001b[0m\n\u001b[1;32m     25\u001b[0m     \u001b[0;31m# Verify if the model is consistent\u001b[0m\u001b[0;34m\u001b[0m\u001b[0;34m\u001b[0m\u001b[0m\n",
            "\u001b[0;32m/usr/local/lib/python3.10/dist-packages/pgmpy/models/BayesianNetwork.py\u001b[0m in \u001b[0;36madd_cpds\u001b[0;34m(self, *cpds)\u001b[0m\n\u001b[1;32m    256\u001b[0m \u001b[0;34m\u001b[0m\u001b[0m\n\u001b[1;32m    257\u001b[0m             \u001b[0;32mif\u001b[0m \u001b[0mset\u001b[0m\u001b[0;34m(\u001b[0m\u001b[0mcpd\u001b[0m\u001b[0;34m.\u001b[0m\u001b[0mscope\u001b[0m\u001b[0;34m(\u001b[0m\u001b[0;34m)\u001b[0m\u001b[0;34m)\u001b[0m \u001b[0;34m-\u001b[0m \u001b[0mset\u001b[0m\u001b[0;34m(\u001b[0m\u001b[0mcpd\u001b[0m\u001b[0;34m.\u001b[0m\u001b[0mscope\u001b[0m\u001b[0;34m(\u001b[0m\u001b[0;34m)\u001b[0m\u001b[0;34m)\u001b[0m\u001b[0;34m.\u001b[0m\u001b[0mintersection\u001b[0m\u001b[0;34m(\u001b[0m\u001b[0mset\u001b[0m\u001b[0;34m(\u001b[0m\u001b[0mself\u001b[0m\u001b[0;34m.\u001b[0m\u001b[0mnodes\u001b[0m\u001b[0;34m(\u001b[0m\u001b[0;34m)\u001b[0m\u001b[0;34m)\u001b[0m\u001b[0;34m)\u001b[0m\u001b[0;34m:\u001b[0m\u001b[0;34m\u001b[0m\u001b[0;34m\u001b[0m\u001b[0m\n\u001b[0;32m--> 258\u001b[0;31m                 \u001b[0;32mraise\u001b[0m \u001b[0mValueError\u001b[0m\u001b[0;34m(\u001b[0m\u001b[0;34m\"CPD defined on variable not in the model\"\u001b[0m\u001b[0;34m,\u001b[0m \u001b[0mcpd\u001b[0m\u001b[0;34m)\u001b[0m\u001b[0;34m\u001b[0m\u001b[0;34m\u001b[0m\u001b[0m\n\u001b[0m\u001b[1;32m    259\u001b[0m \u001b[0;34m\u001b[0m\u001b[0m\n\u001b[1;32m    260\u001b[0m             \u001b[0;32mfor\u001b[0m \u001b[0mprev_cpd_index\u001b[0m \u001b[0;32min\u001b[0m \u001b[0mrange\u001b[0m\u001b[0;34m(\u001b[0m\u001b[0mlen\u001b[0m\u001b[0;34m(\u001b[0m\u001b[0mself\u001b[0m\u001b[0;34m.\u001b[0m\u001b[0mcpds\u001b[0m\u001b[0;34m)\u001b[0m\u001b[0;34m)\u001b[0m\u001b[0;34m:\u001b[0m\u001b[0;34m\u001b[0m\u001b[0;34m\u001b[0m\u001b[0m\n",
            "\u001b[0;31mValueError\u001b[0m: ('CPD defined on variable not in the model', <TabularCPD representing P(1:2) at 0x7fe04c5f8220>)"
          ]
        }
      ]
    }
  ]
}