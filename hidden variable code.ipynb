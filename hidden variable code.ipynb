{
 "cells": [
  {
   "cell_type": "code",
   "execution_count": 6,
   "id": "34b0a507",
   "metadata": {},
   "outputs": [],
   "source": [
    "import numpy as np\n",
    "import pandas as pd\n",
    "import os\n",
    "import random"
   ]
  },
  {
   "cell_type": "code",
   "execution_count": 7,
   "id": "2fd15968",
   "metadata": {},
   "outputs": [],
   "source": [
    "def read_matrix(file_path):\n",
    "    return  pd.read_csv(file_path).to_numpy()\n",
    "\n",
    "def save_matrix(data, file_path):\n",
    "    print(file_path)\n",
    "    pd.DataFrame(data).to_csv(file_path, index=False)\n",
    "\n",
    "FOLDER_PATH  = \"./causal_data/\"\n",
    "NEW_FOLDER_PATH  = \"./hidden_causal_data/\""
   ]
  },
  {
   "cell_type": "code",
   "execution_count": 8,
   "id": "c6e875a3",
   "metadata": {},
   "outputs": [
    {
     "name": "stdout",
     "output_type": "stream",
     "text": [
      "./hidden_causal_data/causal_10_100.csv\n",
      "./hidden_causal_data/sim_data_10_100.csv\n",
      "./hidden_causal_data/causal_20_500.csv\n",
      "./hidden_causal_data/sim_data_20_500.csv\n",
      "./hidden_causal_data/causal_40_500.csv\n",
      "./hidden_causal_data/sim_data_40_500.csv\n",
      "./hidden_causal_data/causal_20_100.csv\n",
      "./hidden_causal_data/sim_data_20_100.csv\n",
      "./hidden_causal_data/causal_40_1000.csv\n",
      "./hidden_causal_data/sim_data_40_1000.csv\n",
      "./hidden_causal_data/causal_70_1000.csv\n",
      "./hidden_causal_data/sim_data_70_1000.csv\n",
      "./hidden_causal_data/causal_40_100.csv\n",
      "./hidden_causal_data/sim_data_40_100.csv\n",
      "./hidden_causal_data/causal_10_500.csv\n",
      "./hidden_causal_data/sim_data_10_500.csv\n",
      "./hidden_causal_data/causal_20_1000.csv\n",
      "./hidden_causal_data/sim_data_20_1000.csv\n",
      "./hidden_causal_data/causal_10_1000.csv\n",
      "./hidden_causal_data/sim_data_10_1000.csv\n"
     ]
    }
   ],
   "source": [
    "def get_drop_lst(file_name):\n",
    "    df =  read_matrix(os.path.join(FOLDER_PATH, file_name))\n",
    "    n=df.shape[0]\n",
    "#     print(n)\n",
    "    mp_out={}\n",
    "    count_in = [0 for _ in range(n)]\n",
    "    for i in range(n):\n",
    "        for j in range(n):\n",
    "            if df[i][j]:\n",
    "                if i not in mp_out:\n",
    "                    mp_out[i]=[j]\n",
    "                else:\n",
    "                    mp_out[i].append(j)\n",
    "                count_in[j]+=1\n",
    "#     print(mp_out)\n",
    "#     print(count_in)\n",
    "    lst = []\n",
    "    for i in range(n):\n",
    "        if count_in[i]==0:\n",
    "            lst.append(i)\n",
    "#     print(lst)\n",
    "    drop_lst=[]\n",
    "    k=int(n*0.25)\n",
    "    for iter in range(k):\n",
    "        if len(lst)==0:\n",
    "            break\n",
    "        random.shuffle(lst)\n",
    "#         print(lst)\n",
    "        idx=lst[0]\n",
    "        lst=lst[1:]\n",
    "        drop_lst.append(idx)\n",
    "        if idx not in mp_out:\n",
    "            continue\n",
    "        for to in mp_out[idx]:\n",
    "            count_in[to]-=1\n",
    "            if count_in[to]==0:\n",
    "                lst.append(to)\n",
    "        del mp_out[idx]\n",
    "    return drop_lst\n",
    "\n",
    "def drop_data(drop_lst,file_name):\n",
    "    df =  read_matrix(os.path.join(FOLDER_PATH, file_name))\n",
    "    n=df.shape[0]\n",
    "    hidden_mat=[]\n",
    "    for i in range(n):\n",
    "        if i in drop_lst:\n",
    "            continue\n",
    "        temp=[]\n",
    "        for j in range(n):\n",
    "            if j in drop_lst:\n",
    "                continue\n",
    "            temp.append(df[i][j])\n",
    "        hidden_mat.append(temp)\n",
    "#     print(len(hidden_mat))\n",
    "#     print(hidden_mat)\n",
    "#     print(len(hidden_mat[0]))\n",
    "    save_matrix(hidden_mat, os.path.join(NEW_FOLDER_PATH, file_name))\n",
    "    drop_lst = sorted(drop_lst, reverse=True)\n",
    "    sim_data =  read_matrix(os.path.join(FOLDER_PATH, file_name.replace(\"causal\", \"sim_data\")))\n",
    "    for idx in drop_lst:\n",
    "        sim_data_new = np.delete(sim_data, idx, axis=1)\n",
    "    save_matrix(sim_data_new, os.path.join(NEW_FOLDER_PATH, file_name.replace(\"causal\", \"sim_data\")))\n",
    "    \n",
    "    \n",
    "for file_name in os.listdir(FOLDER_PATH):\n",
    "    if file_name[:6]!=\"causal\":\n",
    "        continue\n",
    "    drop_lst=get_drop_lst(file_name)\n",
    "    drop_data(drop_lst,file_name)\n",
    "    \n",
    "#     print(file_name)\n",
    "#     break"
   ]
  },
  {
   "cell_type": "code",
   "execution_count": null,
   "id": "83d0fe0d",
   "metadata": {},
   "outputs": [],
   "source": []
  },
  {
   "cell_type": "code",
   "execution_count": null,
   "id": "941ee99f",
   "metadata": {},
   "outputs": [],
   "source": []
  },
  {
   "cell_type": "code",
   "execution_count": 14,
   "id": "e0043b38",
   "metadata": {},
   "outputs": [],
   "source": [
    "file_path = \"./sim_data_d_10_10000.csv\"\n",
    "df = read_matrix(file_path)"
   ]
  },
  {
   "cell_type": "code",
   "execution_count": 15,
   "id": "391c88b2",
   "metadata": {},
   "outputs": [
    {
     "data": {
      "text/plain": [
       "array([[1, 1, 0, ..., 1, 0, 1],\n",
       "       [1, 1, 0, ..., 1, 0, 1],\n",
       "       [1, 0, 0, ..., 1, 1, 1],\n",
       "       ...,\n",
       "       [0, 1, 0, ..., 1, 0, 1],\n",
       "       [0, 1, 0, ..., 1, 0, 0],\n",
       "       [1, 1, 0, ..., 1, 0, 0]])"
      ]
     },
     "execution_count": 15,
     "metadata": {},
     "output_type": "execute_result"
    }
   ],
   "source": [
    "df"
   ]
  },
  {
   "cell_type": "code",
   "execution_count": 12,
   "id": "be2429fb",
   "metadata": {},
   "outputs": [
    {
     "data": {
      "text/plain": [
       "(10000, 10)"
      ]
     },
     "execution_count": 12,
     "metadata": {},
     "output_type": "execute_result"
    }
   ],
   "source": [
    "df.shape"
   ]
  },
  {
   "cell_type": "code",
   "execution_count": 18,
   "id": "b1398091",
   "metadata": {},
   "outputs": [
    {
     "name": "stderr",
     "output_type": "stream",
     "text": [
      "/home/aarushi/.local/lib/python3.7/site-packages/ipykernel_launcher.py:1: DeprecationWarning: `np.float` is a deprecated alias for the builtin `float`. To silence this warning, use `float` by itself. Doing this will not modify any behavior and is safe. If you specifically wanted the numpy scalar type, use `np.float64` here.\n",
      "Deprecated in NumPy 1.20; for more details and guidance: https://numpy.org/devdocs/release/1.20.0-notes.html#deprecations\n",
      "  \"\"\"Entry point for launching an IPython kernel.\n"
     ]
    },
    {
     "name": "stdout",
     "output_type": "stream",
     "text": [
      "./extra/sim_data_a_10_10000.csv\n"
     ]
    }
   ],
   "source": [
    "save_matrix( df.astype(np.float), \"./extra/sim_data_a_10_10000.csv\")"
   ]
  },
  {
   "cell_type": "code",
   "execution_count": null,
   "id": "1cd01e6f",
   "metadata": {},
   "outputs": [],
   "source": []
  }
 ],
 "metadata": {
  "kernelspec": {
   "display_name": "Python 3 (ipykernel)",
   "language": "python",
   "name": "python3"
  },
  "language_info": {
   "codemirror_mode": {
    "name": "ipython",
    "version": 3
   },
   "file_extension": ".py",
   "mimetype": "text/x-python",
   "name": "python",
   "nbconvert_exporter": "python",
   "pygments_lexer": "ipython3",
   "version": "3.7.5"
  }
 },
 "nbformat": 4,
 "nbformat_minor": 5
}
